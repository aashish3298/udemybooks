{
  "nbformat": 4,
  "nbformat_minor": 0,
  "metadata": {
    "colab": {
      "name": "Business_question.ipynb",
      "provenance": [],
      "authorship_tag": "ABX9TyP6qtYvyvO4zyN7Lk2Dl2b6",
      "include_colab_link": true
    },
    "kernelspec": {
      "name": "python3",
      "display_name": "Python 3"
    }
  },
  "cells": [
    {
      "cell_type": "markdown",
      "metadata": {
        "id": "view-in-github",
        "colab_type": "text"
      },
      "source": [
        "<a href=\"https://colab.research.google.com/github/aashish3298/udemybooks/blob/master/Business_question.ipynb\" target=\"_parent\"><img src=\"https://colab.research.google.com/assets/colab-badge.svg\" alt=\"Open In Colab\"/></a>"
      ]
    },
    {
      "cell_type": "code",
      "metadata": {
        "colab": {
          "base_uri": "https://localhost:8080/",
          "height": 306
        },
        "id": "wX7ZIR77zsCI",
        "outputId": "41bc1413-9a49-4307-e15d-f9998048d6f5"
      },
      "source": [
        "import pandas as pd \n",
        "import numpy as np\n",
        "dfm = pd.read_csv('/newmovies.csv')\n",
        "dfm.head()"
      ],
      "execution_count": 1,
      "outputs": [
        {
          "output_type": "execute_result",
          "data": {
            "text/html": [
              "<div>\n",
              "<style scoped>\n",
              "    .dataframe tbody tr th:only-of-type {\n",
              "        vertical-align: middle;\n",
              "    }\n",
              "\n",
              "    .dataframe tbody tr th {\n",
              "        vertical-align: top;\n",
              "    }\n",
              "\n",
              "    .dataframe thead th {\n",
              "        text-align: right;\n",
              "    }\n",
              "</style>\n",
              "<table border=\"1\" class=\"dataframe\">\n",
              "  <thead>\n",
              "    <tr style=\"text-align: right;\">\n",
              "      <th></th>\n",
              "      <th>ID</th>\n",
              "      <th>Title</th>\n",
              "      <th>Year</th>\n",
              "      <th>Age</th>\n",
              "      <th>IMDb</th>\n",
              "      <th>Rotten Tomatoes</th>\n",
              "      <th>Netflix</th>\n",
              "      <th>Hulu</th>\n",
              "      <th>Prime Video</th>\n",
              "      <th>Disney+</th>\n",
              "      <th>Directors</th>\n",
              "      <th>Genres</th>\n",
              "      <th>Country</th>\n",
              "      <th>Language</th>\n",
              "      <th>Runtime</th>\n",
              "    </tr>\n",
              "  </thead>\n",
              "  <tbody>\n",
              "    <tr>\n",
              "      <th>0</th>\n",
              "      <td>1</td>\n",
              "      <td>Inception</td>\n",
              "      <td>2010</td>\n",
              "      <td>13+</td>\n",
              "      <td>8.8</td>\n",
              "      <td>87%</td>\n",
              "      <td>Yes</td>\n",
              "      <td>No</td>\n",
              "      <td>No</td>\n",
              "      <td>No</td>\n",
              "      <td>Christopher Nolan</td>\n",
              "      <td>Action,Adventure,Sci-Fi,Thriller</td>\n",
              "      <td>United States</td>\n",
              "      <td>English</td>\n",
              "      <td>148</td>\n",
              "    </tr>\n",
              "    <tr>\n",
              "      <th>1</th>\n",
              "      <td>2</td>\n",
              "      <td>The Matrix</td>\n",
              "      <td>1999</td>\n",
              "      <td>18+</td>\n",
              "      <td>8.7</td>\n",
              "      <td>87%</td>\n",
              "      <td>Yes</td>\n",
              "      <td>No</td>\n",
              "      <td>No</td>\n",
              "      <td>No</td>\n",
              "      <td>Lana Wachowski,Lilly Wachowski</td>\n",
              "      <td>Action,Sci-Fi</td>\n",
              "      <td>United States</td>\n",
              "      <td>English</td>\n",
              "      <td>136</td>\n",
              "    </tr>\n",
              "    <tr>\n",
              "      <th>2</th>\n",
              "      <td>3</td>\n",
              "      <td>Avengers: Infinity War</td>\n",
              "      <td>2018</td>\n",
              "      <td>13+</td>\n",
              "      <td>8.5</td>\n",
              "      <td>84%</td>\n",
              "      <td>Yes</td>\n",
              "      <td>No</td>\n",
              "      <td>No</td>\n",
              "      <td>No</td>\n",
              "      <td>Anthony Russo,Joe Russo</td>\n",
              "      <td>Action,Adventure,Sci-Fi</td>\n",
              "      <td>United States</td>\n",
              "      <td>English</td>\n",
              "      <td>149</td>\n",
              "    </tr>\n",
              "    <tr>\n",
              "      <th>3</th>\n",
              "      <td>4</td>\n",
              "      <td>Back to the Future</td>\n",
              "      <td>1985</td>\n",
              "      <td>7+</td>\n",
              "      <td>8.5</td>\n",
              "      <td>96%</td>\n",
              "      <td>Yes</td>\n",
              "      <td>No</td>\n",
              "      <td>No</td>\n",
              "      <td>No</td>\n",
              "      <td>Robert Zemeckis</td>\n",
              "      <td>Adventure,Comedy,Sci-Fi</td>\n",
              "      <td>United States</td>\n",
              "      <td>English</td>\n",
              "      <td>116</td>\n",
              "    </tr>\n",
              "    <tr>\n",
              "      <th>4</th>\n",
              "      <td>5</td>\n",
              "      <td>The Good, the Bad and the Ugly</td>\n",
              "      <td>1966</td>\n",
              "      <td>18+</td>\n",
              "      <td>8.8</td>\n",
              "      <td>97%</td>\n",
              "      <td>Yes</td>\n",
              "      <td>No</td>\n",
              "      <td>Yes</td>\n",
              "      <td>No</td>\n",
              "      <td>Sergio Leone</td>\n",
              "      <td>Western</td>\n",
              "      <td>Italy</td>\n",
              "      <td>Italian</td>\n",
              "      <td>161</td>\n",
              "    </tr>\n",
              "  </tbody>\n",
              "</table>\n",
              "</div>"
            ],
            "text/plain": [
              "   ID                           Title  Year  ...        Country  Language Runtime\n",
              "0   1                       Inception  2010  ...  United States   English     148\n",
              "1   2                      The Matrix  1999  ...  United States   English     136\n",
              "2   3          Avengers: Infinity War  2018  ...  United States   English     149\n",
              "3   4              Back to the Future  1985  ...  United States   English     116\n",
              "4   5  The Good, the Bad and the Ugly  1966  ...          Italy   Italian     161\n",
              "\n",
              "[5 rows x 15 columns]"
            ]
          },
          "metadata": {
            "tags": []
          },
          "execution_count": 1
        }
      ]
    },
    {
      "cell_type": "code",
      "metadata": {
        "colab": {
          "base_uri": "https://localhost:8080/",
          "height": 419
        },
        "id": "tZMOjYEA0INy",
        "outputId": "08a00fb2-3a02-4d25-df3b-93af68b5ea7f"
      },
      "source": [
        "df = dfm[['Title','Age','IMDb', 'Directors', 'Genres']]\n",
        "df"
      ],
      "execution_count": 2,
      "outputs": [
        {
          "output_type": "execute_result",
          "data": {
            "text/html": [
              "<div>\n",
              "<style scoped>\n",
              "    .dataframe tbody tr th:only-of-type {\n",
              "        vertical-align: middle;\n",
              "    }\n",
              "\n",
              "    .dataframe tbody tr th {\n",
              "        vertical-align: top;\n",
              "    }\n",
              "\n",
              "    .dataframe thead th {\n",
              "        text-align: right;\n",
              "    }\n",
              "</style>\n",
              "<table border=\"1\" class=\"dataframe\">\n",
              "  <thead>\n",
              "    <tr style=\"text-align: right;\">\n",
              "      <th></th>\n",
              "      <th>Title</th>\n",
              "      <th>Age</th>\n",
              "      <th>IMDb</th>\n",
              "      <th>Directors</th>\n",
              "      <th>Genres</th>\n",
              "    </tr>\n",
              "  </thead>\n",
              "  <tbody>\n",
              "    <tr>\n",
              "      <th>0</th>\n",
              "      <td>Inception</td>\n",
              "      <td>13+</td>\n",
              "      <td>8.8</td>\n",
              "      <td>Christopher Nolan</td>\n",
              "      <td>Action,Adventure,Sci-Fi,Thriller</td>\n",
              "    </tr>\n",
              "    <tr>\n",
              "      <th>1</th>\n",
              "      <td>The Matrix</td>\n",
              "      <td>18+</td>\n",
              "      <td>8.7</td>\n",
              "      <td>Lana Wachowski,Lilly Wachowski</td>\n",
              "      <td>Action,Sci-Fi</td>\n",
              "    </tr>\n",
              "    <tr>\n",
              "      <th>2</th>\n",
              "      <td>Avengers: Infinity War</td>\n",
              "      <td>13+</td>\n",
              "      <td>8.5</td>\n",
              "      <td>Anthony Russo,Joe Russo</td>\n",
              "      <td>Action,Adventure,Sci-Fi</td>\n",
              "    </tr>\n",
              "    <tr>\n",
              "      <th>3</th>\n",
              "      <td>Back to the Future</td>\n",
              "      <td>7+</td>\n",
              "      <td>8.5</td>\n",
              "      <td>Robert Zemeckis</td>\n",
              "      <td>Adventure,Comedy,Sci-Fi</td>\n",
              "    </tr>\n",
              "    <tr>\n",
              "      <th>4</th>\n",
              "      <td>The Good, the Bad and the Ugly</td>\n",
              "      <td>18+</td>\n",
              "      <td>8.8</td>\n",
              "      <td>Sergio Leone</td>\n",
              "      <td>Western</td>\n",
              "    </tr>\n",
              "    <tr>\n",
              "      <th>...</th>\n",
              "      <td>...</td>\n",
              "      <td>...</td>\n",
              "      <td>...</td>\n",
              "      <td>...</td>\n",
              "      <td>...</td>\n",
              "    </tr>\n",
              "    <tr>\n",
              "      <th>15425</th>\n",
              "      <td>Sultan And The Rock Star</td>\n",
              "      <td>NaN</td>\n",
              "      <td>5.9</td>\n",
              "      <td>Edward M. Abroms</td>\n",
              "      <td>Adventure,Drama,Family</td>\n",
              "    </tr>\n",
              "    <tr>\n",
              "      <th>15426</th>\n",
              "      <td>The Bears and I</td>\n",
              "      <td>all</td>\n",
              "      <td>6.2</td>\n",
              "      <td>Bernard McEveety</td>\n",
              "      <td>Drama,Family</td>\n",
              "    </tr>\n",
              "    <tr>\n",
              "      <th>15427</th>\n",
              "      <td>Whispers: An Elephant's Tale</td>\n",
              "      <td>all</td>\n",
              "      <td>5.0</td>\n",
              "      <td>Dereck Joubert</td>\n",
              "      <td>Adventure,Family</td>\n",
              "    </tr>\n",
              "    <tr>\n",
              "      <th>15428</th>\n",
              "      <td>The Ghosts of Buxley Hall</td>\n",
              "      <td>NaN</td>\n",
              "      <td>6.2</td>\n",
              "      <td>Bruce Bilson</td>\n",
              "      <td>Comedy,Family,Fantasy,Horror</td>\n",
              "    </tr>\n",
              "    <tr>\n",
              "      <th>15429</th>\n",
              "      <td>The Poof Point</td>\n",
              "      <td>7+</td>\n",
              "      <td>4.7</td>\n",
              "      <td>Neal Israel</td>\n",
              "      <td>Comedy,Family,Sci-Fi</td>\n",
              "    </tr>\n",
              "  </tbody>\n",
              "</table>\n",
              "<p>15430 rows × 5 columns</p>\n",
              "</div>"
            ],
            "text/plain": [
              "                                Title  ...                            Genres\n",
              "0                           Inception  ...  Action,Adventure,Sci-Fi,Thriller\n",
              "1                          The Matrix  ...                     Action,Sci-Fi\n",
              "2              Avengers: Infinity War  ...           Action,Adventure,Sci-Fi\n",
              "3                  Back to the Future  ...           Adventure,Comedy,Sci-Fi\n",
              "4      The Good, the Bad and the Ugly  ...                           Western\n",
              "...                               ...  ...                               ...\n",
              "15425        Sultan And The Rock Star  ...            Adventure,Drama,Family\n",
              "15426                 The Bears and I  ...                      Drama,Family\n",
              "15427    Whispers: An Elephant's Tale  ...                  Adventure,Family\n",
              "15428       The Ghosts of Buxley Hall  ...      Comedy,Family,Fantasy,Horror\n",
              "15429                  The Poof Point  ...              Comedy,Family,Sci-Fi\n",
              "\n",
              "[15430 rows x 5 columns]"
            ]
          },
          "metadata": {
            "tags": []
          },
          "execution_count": 2
        }
      ]
    },
    {
      "cell_type": "code",
      "metadata": {
        "id": "YtCDmm7I0ZTi"
      },
      "source": [
        "def removeSpaces(inputString):\n",
        "    if(inputString):\n",
        "        return str(inputString).replace(\" \",\"\")\n",
        "    else:\n",
        "        return None"
      ],
      "execution_count": 3,
      "outputs": []
    },
    {
      "cell_type": "code",
      "metadata": {
        "colab": {
          "base_uri": "https://localhost:8080/",
          "height": 306
        },
        "id": "F8lP1EmR0ZeM",
        "outputId": "0f4a83a5-b92e-449e-fbb1-844cdf6ee0aa"
      },
      "source": [
        "df['Directors_trim'] = df['Directors'].apply(removeSpaces)\n",
        "df.head()"
      ],
      "execution_count": 5,
      "outputs": [
        {
          "output_type": "stream",
          "text": [
            "/usr/local/lib/python3.6/dist-packages/ipykernel_launcher.py:1: SettingWithCopyWarning: \n",
            "A value is trying to be set on a copy of a slice from a DataFrame.\n",
            "Try using .loc[row_indexer,col_indexer] = value instead\n",
            "\n",
            "See the caveats in the documentation: https://pandas.pydata.org/pandas-docs/stable/user_guide/indexing.html#returning-a-view-versus-a-copy\n",
            "  \"\"\"Entry point for launching an IPython kernel.\n"
          ],
          "name": "stderr"
        },
        {
          "output_type": "execute_result",
          "data": {
            "text/html": [
              "<div>\n",
              "<style scoped>\n",
              "    .dataframe tbody tr th:only-of-type {\n",
              "        vertical-align: middle;\n",
              "    }\n",
              "\n",
              "    .dataframe tbody tr th {\n",
              "        vertical-align: top;\n",
              "    }\n",
              "\n",
              "    .dataframe thead th {\n",
              "        text-align: right;\n",
              "    }\n",
              "</style>\n",
              "<table border=\"1\" class=\"dataframe\">\n",
              "  <thead>\n",
              "    <tr style=\"text-align: right;\">\n",
              "      <th></th>\n",
              "      <th>Title</th>\n",
              "      <th>Age</th>\n",
              "      <th>IMDb</th>\n",
              "      <th>Directors</th>\n",
              "      <th>Genres</th>\n",
              "      <th>Directors_trim</th>\n",
              "    </tr>\n",
              "  </thead>\n",
              "  <tbody>\n",
              "    <tr>\n",
              "      <th>0</th>\n",
              "      <td>Inception</td>\n",
              "      <td>13+</td>\n",
              "      <td>8.8</td>\n",
              "      <td>Christopher Nolan</td>\n",
              "      <td>Action,Adventure,Sci-Fi,Thriller</td>\n",
              "      <td>ChristopherNolan</td>\n",
              "    </tr>\n",
              "    <tr>\n",
              "      <th>1</th>\n",
              "      <td>The Matrix</td>\n",
              "      <td>18+</td>\n",
              "      <td>8.7</td>\n",
              "      <td>Lana Wachowski,Lilly Wachowski</td>\n",
              "      <td>Action,Sci-Fi</td>\n",
              "      <td>LanaWachowski,LillyWachowski</td>\n",
              "    </tr>\n",
              "    <tr>\n",
              "      <th>2</th>\n",
              "      <td>Avengers: Infinity War</td>\n",
              "      <td>13+</td>\n",
              "      <td>8.5</td>\n",
              "      <td>Anthony Russo,Joe Russo</td>\n",
              "      <td>Action,Adventure,Sci-Fi</td>\n",
              "      <td>AnthonyRusso,JoeRusso</td>\n",
              "    </tr>\n",
              "    <tr>\n",
              "      <th>3</th>\n",
              "      <td>Back to the Future</td>\n",
              "      <td>7+</td>\n",
              "      <td>8.5</td>\n",
              "      <td>Robert Zemeckis</td>\n",
              "      <td>Adventure,Comedy,Sci-Fi</td>\n",
              "      <td>RobertZemeckis</td>\n",
              "    </tr>\n",
              "    <tr>\n",
              "      <th>4</th>\n",
              "      <td>The Good, the Bad and the Ugly</td>\n",
              "      <td>18+</td>\n",
              "      <td>8.8</td>\n",
              "      <td>Sergio Leone</td>\n",
              "      <td>Western</td>\n",
              "      <td>SergioLeone</td>\n",
              "    </tr>\n",
              "  </tbody>\n",
              "</table>\n",
              "</div>"
            ],
            "text/plain": [
              "                            Title  ...                Directors_trim\n",
              "0                       Inception  ...              ChristopherNolan\n",
              "1                      The Matrix  ...  LanaWachowski,LillyWachowski\n",
              "2          Avengers: Infinity War  ...         AnthonyRusso,JoeRusso\n",
              "3              Back to the Future  ...                RobertZemeckis\n",
              "4  The Good, the Bad and the Ugly  ...                   SergioLeone\n",
              "\n",
              "[5 rows x 6 columns]"
            ]
          },
          "metadata": {
            "tags": []
          },
          "execution_count": 5
        }
      ]
    },
    {
      "cell_type": "code",
      "metadata": {
        "id": "jarEGsjo0Zna"
      },
      "source": [
        "def getComment(rating):\n",
        "    if rating == None:\n",
        "        return \"\"\n",
        "    elif rating >= 7.6:\n",
        "        return \"great\"\n",
        "    elif rating >= 5.9 and rating <= 7.5:\n",
        "        return \"okay\"\n",
        "    elif  rating < 5.9:\n",
        "        return \"bad\""
      ],
      "execution_count": 6,
      "outputs": []
    },
    {
      "cell_type": "code",
      "metadata": {
        "colab": {
          "base_uri": "https://localhost:8080/",
          "height": 306
        },
        "id": "9kelR3s30ZsA",
        "outputId": "2ef64bc1-5859-40b5-9b05-2143308e1bc5"
      },
      "source": [
        "df['comment'] = df[\"IMDb\"].apply(getComment)\n",
        "df.head()"
      ],
      "execution_count": 7,
      "outputs": [
        {
          "output_type": "stream",
          "text": [
            "/usr/local/lib/python3.6/dist-packages/ipykernel_launcher.py:1: SettingWithCopyWarning: \n",
            "A value is trying to be set on a copy of a slice from a DataFrame.\n",
            "Try using .loc[row_indexer,col_indexer] = value instead\n",
            "\n",
            "See the caveats in the documentation: https://pandas.pydata.org/pandas-docs/stable/user_guide/indexing.html#returning-a-view-versus-a-copy\n",
            "  \"\"\"Entry point for launching an IPython kernel.\n"
          ],
          "name": "stderr"
        },
        {
          "output_type": "execute_result",
          "data": {
            "text/html": [
              "<div>\n",
              "<style scoped>\n",
              "    .dataframe tbody tr th:only-of-type {\n",
              "        vertical-align: middle;\n",
              "    }\n",
              "\n",
              "    .dataframe tbody tr th {\n",
              "        vertical-align: top;\n",
              "    }\n",
              "\n",
              "    .dataframe thead th {\n",
              "        text-align: right;\n",
              "    }\n",
              "</style>\n",
              "<table border=\"1\" class=\"dataframe\">\n",
              "  <thead>\n",
              "    <tr style=\"text-align: right;\">\n",
              "      <th></th>\n",
              "      <th>Title</th>\n",
              "      <th>Age</th>\n",
              "      <th>IMDb</th>\n",
              "      <th>Directors</th>\n",
              "      <th>Genres</th>\n",
              "      <th>Directors_trim</th>\n",
              "      <th>comment</th>\n",
              "    </tr>\n",
              "  </thead>\n",
              "  <tbody>\n",
              "    <tr>\n",
              "      <th>0</th>\n",
              "      <td>Inception</td>\n",
              "      <td>13+</td>\n",
              "      <td>8.8</td>\n",
              "      <td>Christopher Nolan</td>\n",
              "      <td>Action,Adventure,Sci-Fi,Thriller</td>\n",
              "      <td>ChristopherNolan</td>\n",
              "      <td>great</td>\n",
              "    </tr>\n",
              "    <tr>\n",
              "      <th>1</th>\n",
              "      <td>The Matrix</td>\n",
              "      <td>18+</td>\n",
              "      <td>8.7</td>\n",
              "      <td>Lana Wachowski,Lilly Wachowski</td>\n",
              "      <td>Action,Sci-Fi</td>\n",
              "      <td>LanaWachowski,LillyWachowski</td>\n",
              "      <td>great</td>\n",
              "    </tr>\n",
              "    <tr>\n",
              "      <th>2</th>\n",
              "      <td>Avengers: Infinity War</td>\n",
              "      <td>13+</td>\n",
              "      <td>8.5</td>\n",
              "      <td>Anthony Russo,Joe Russo</td>\n",
              "      <td>Action,Adventure,Sci-Fi</td>\n",
              "      <td>AnthonyRusso,JoeRusso</td>\n",
              "      <td>great</td>\n",
              "    </tr>\n",
              "    <tr>\n",
              "      <th>3</th>\n",
              "      <td>Back to the Future</td>\n",
              "      <td>7+</td>\n",
              "      <td>8.5</td>\n",
              "      <td>Robert Zemeckis</td>\n",
              "      <td>Adventure,Comedy,Sci-Fi</td>\n",
              "      <td>RobertZemeckis</td>\n",
              "      <td>great</td>\n",
              "    </tr>\n",
              "    <tr>\n",
              "      <th>4</th>\n",
              "      <td>The Good, the Bad and the Ugly</td>\n",
              "      <td>18+</td>\n",
              "      <td>8.8</td>\n",
              "      <td>Sergio Leone</td>\n",
              "      <td>Western</td>\n",
              "      <td>SergioLeone</td>\n",
              "      <td>great</td>\n",
              "    </tr>\n",
              "  </tbody>\n",
              "</table>\n",
              "</div>"
            ],
            "text/plain": [
              "                            Title  Age  ...                Directors_trim comment\n",
              "0                       Inception  13+  ...              ChristopherNolan   great\n",
              "1                      The Matrix  18+  ...  LanaWachowski,LillyWachowski   great\n",
              "2          Avengers: Infinity War  13+  ...         AnthonyRusso,JoeRusso   great\n",
              "3              Back to the Future   7+  ...                RobertZemeckis   great\n",
              "4  The Good, the Bad and the Ugly  18+  ...                   SergioLeone   great\n",
              "\n",
              "[5 rows x 7 columns]"
            ]
          },
          "metadata": {
            "tags": []
          },
          "execution_count": 7
        }
      ]
    },
    {
      "cell_type": "code",
      "metadata": {
        "colab": {
          "base_uri": "https://localhost:8080/"
        },
        "id": "rbtN4VeS1AxV",
        "outputId": "8c9df801-4d1f-4553-a0f4-e71619ff51b9"
      },
      "source": [
        "df['bagofwords'] = df['Genres'].map(str) + ',' + df['Directors_trim'].map(str) + ',' + df['comment'].map(str)+ ',' + df['Age'].map(str)\n",
        "df['bagofwords']"
      ],
      "execution_count": 8,
      "outputs": [
        {
          "output_type": "stream",
          "text": [
            "/usr/local/lib/python3.6/dist-packages/ipykernel_launcher.py:1: SettingWithCopyWarning: \n",
            "A value is trying to be set on a copy of a slice from a DataFrame.\n",
            "Try using .loc[row_indexer,col_indexer] = value instead\n",
            "\n",
            "See the caveats in the documentation: https://pandas.pydata.org/pandas-docs/stable/user_guide/indexing.html#returning-a-view-versus-a-copy\n",
            "  \"\"\"Entry point for launching an IPython kernel.\n"
          ],
          "name": "stderr"
        },
        {
          "output_type": "execute_result",
          "data": {
            "text/plain": [
              "0        Action,Adventure,Sci-Fi,Thriller,ChristopherNo...\n",
              "1        Action,Sci-Fi,LanaWachowski,LillyWachowski,gre...\n",
              "2        Action,Adventure,Sci-Fi,AnthonyRusso,JoeRusso,...\n",
              "3          Adventure,Comedy,Sci-Fi,RobertZemeckis,great,7+\n",
              "4                            Western,SergioLeone,great,18+\n",
              "                               ...                        \n",
              "15425       Adventure,Drama,Family,EdwardM.Abroms,okay,nan\n",
              "15426                Drama,Family,BernardMcEveety,okay,all\n",
              "15427               Adventure,Family,DereckJoubert,bad,all\n",
              "15428    Comedy,Family,Fantasy,Horror,BruceBilson,okay,nan\n",
              "15429               Comedy,Family,Sci-Fi,NealIsrael,bad,7+\n",
              "Name: bagofwords, Length: 15430, dtype: object"
            ]
          },
          "metadata": {
            "tags": []
          },
          "execution_count": 8
        }
      ]
    },
    {
      "cell_type": "code",
      "metadata": {
        "id": "OUdyuSVs1A9d"
      },
      "source": [
        "def removeInvalidValue (input):\n",
        "    arr = input.split(\",\")\n",
        "    arr = [i for i in arr if i != \"None\" and i != \"nan\"]\n",
        "    return \",\".join(arr)"
      ],
      "execution_count": 17,
      "outputs": []
    },
    {
      "cell_type": "code",
      "metadata": {
        "colab": {
          "base_uri": "https://localhost:8080/"
        },
        "id": "igTF-iM-198E",
        "outputId": "fa47d41a-7113-49aa-97d6-ff93ebf104a0"
      },
      "source": [
        "df['bagofwords'] = df['bagofwords'].apply(removeInvalidValue)\n",
        "df['bagofwords']"
      ],
      "execution_count": 19,
      "outputs": [
        {
          "output_type": "stream",
          "text": [
            "/usr/local/lib/python3.6/dist-packages/ipykernel_launcher.py:1: SettingWithCopyWarning: \n",
            "A value is trying to be set on a copy of a slice from a DataFrame.\n",
            "Try using .loc[row_indexer,col_indexer] = value instead\n",
            "\n",
            "See the caveats in the documentation: https://pandas.pydata.org/pandas-docs/stable/user_guide/indexing.html#returning-a-view-versus-a-copy\n",
            "  \"\"\"Entry point for launching an IPython kernel.\n"
          ],
          "name": "stderr"
        },
        {
          "output_type": "execute_result",
          "data": {
            "text/plain": [
              "0        Action,Adventure,Sci-Fi,Thriller,ChristopherNo...\n",
              "1        Action,Sci-Fi,LanaWachowski,LillyWachowski,gre...\n",
              "2        Action,Adventure,Sci-Fi,AnthonyRusso,JoeRusso,...\n",
              "3          Adventure,Comedy,Sci-Fi,RobertZemeckis,great,7+\n",
              "4                            Western,SergioLeone,great,18+\n",
              "                               ...                        \n",
              "15425           Adventure,Drama,Family,EdwardM.Abroms,okay\n",
              "15426                Drama,Family,BernardMcEveety,okay,all\n",
              "15427               Adventure,Family,DereckJoubert,bad,all\n",
              "15428        Comedy,Family,Fantasy,Horror,BruceBilson,okay\n",
              "15429               Comedy,Family,Sci-Fi,NealIsrael,bad,7+\n",
              "Name: bagofwords, Length: 15430, dtype: object"
            ]
          },
          "metadata": {
            "tags": []
          },
          "execution_count": 19
        }
      ]
    },
    {
      "cell_type": "code",
      "metadata": {
        "id": "KqwRC8zQ1BGN"
      },
      "source": [
        "from sklearn.feature_extraction.text import CountVectorizer\n",
        "from sklearn.metrics.pairwise import cosine_similarity\n",
        "count = CountVectorizer()\n",
        "count_matrix =  count.fit_transform(df['bagofwords'].values)\n",
        "type(count_matrix)\n",
        "cosine_sim = cosine_similarity(count_matrix, count_matrix)"
      ],
      "execution_count": 16,
      "outputs": []
    },
    {
      "cell_type": "code",
      "metadata": {
        "colab": {
          "base_uri": "https://localhost:8080/"
        },
        "id": "NOBgFLCj1Q34",
        "outputId": "b49cde2a-5edb-45dc-9cb7-54c5e479c8c9"
      },
      "source": [
        "cosine_sim.shape"
      ],
      "execution_count": 12,
      "outputs": [
        {
          "output_type": "execute_result",
          "data": {
            "text/plain": [
              "(15430, 15430)"
            ]
          },
          "metadata": {
            "tags": []
          },
          "execution_count": 12
        }
      ]
    },
    {
      "cell_type": "code",
      "metadata": {
        "id": "90jgL07G1Q7y"
      },
      "source": [
        "def getSimilarMovies(moviename):\n",
        "    inp_index = df.index[df['Title'] == moviename].tolist()[0]\n",
        "    print(inp_index)\n",
        "    similar_index = (-cosine_sim[inp_index]).argsort()[:11]\n",
        "    similar_index = similar_index[similar_index != inp_index]\n",
        "    print(df.iloc[similar_index, [0]]) "
      ],
      "execution_count": 13,
      "outputs": []
    },
    {
      "cell_type": "code",
      "metadata": {
        "colab": {
          "base_uri": "https://localhost:8080/"
        },
        "id": "Rs1MdJpd1ZGJ",
        "outputId": "5840e20e-43f0-4c41-f639-db71636e2392"
      },
      "source": [
        "getSimilarMovies(\"The Incredibles\")"
      ],
      "execution_count": 14,
      "outputs": [
        {
          "output_type": "stream",
          "text": [
            "14977\n",
            "                                                   Title\n",
            "33                                         Incredibles 2\n",
            "293                                      Boy & the World\n",
            "14979                                         Big Hero 6\n",
            "161            Lupin the Third: The Castle of Cagliostro\n",
            "6655                                     The Monkey King\n",
            "5                      Spider-Man: Into the Spider-Verse\n",
            "14973                                        Ratatouille\n",
            "1264   Inuyasha the Movie 3: Swords of an Honorable R...\n",
            "3204          How to Train Your Dragon: The Hidden World\n",
            "1490   Walt Disney Animation Studios Short Films Coll...\n"
          ],
          "name": "stdout"
        }
      ]
    },
    {
      "cell_type": "code",
      "metadata": {
        "colab": {
          "base_uri": "https://localhost:8080/"
        },
        "id": "bTEe28Cj1ZcC",
        "outputId": "2dbf79a0-cef2-4bad-a9b8-704e73ae23b3"
      },
      "source": [
        "getSimilarMovies(\"The Good, the Bad and the Ugly\")"
      ],
      "execution_count": 15,
      "outputs": [
        {
          "output_type": "stream",
          "text": [
            "4\n",
            "                                          Title\n",
            "15                 Once Upon a Time in the West\n",
            "3200                            Blazing Saddles\n",
            "7                              Django Unchained\n",
            "4105                        Legends of the Fall\n",
            "50                            The Hateful Eight\n",
            "41                           Hell or High Water\n",
            "273    John Mulaney: Kid Gorgeous at Radio City\n",
            "298                             Louis C.K. 2017\n",
            "14530                   The Far Side of Jericho\n",
            "13180                       The Last Gunslinger\n"
          ],
          "name": "stdout"
        }
      ]
    }
  ]
}